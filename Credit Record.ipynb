{
 "cells": [
  {
   "cell_type": "markdown",
   "id": "0f83f3eb",
   "metadata": {},
   "source": [
    "- For this task there are two files `credit_record.csv` and `application_record.csv` where bank clients are related by the `ID` column.\n",
    "- In `application_record.csv` we have the following variables\n",
    "\n",
    "| Feature Name         | Explanation     | Additional Remarks |\n",
    "|--------------|-----------|-----------|\n",
    "| ID | Randomly allocated client number      |         |\n",
    "| AMT_INCOME_TOTAL   | Annual income  |  |\n",
    "| NAME_INCOME_TYPE   | Income Source |  |\n",
    "| NAME_EDUCATION_TYPE   | Level of Education  |  |\n",
    "| CODE_GENDER   | Applicant's Gender   |  |\n",
    "| FLAG_OWN_CAR | Car Ownership |  | \n",
    "| CNT_CHILDREN | Number of Children | |\n",
    "| FLAG_OWN_REALTY | Real Estate Ownership | | \n",
    "| NAME_FAMILY_STATUS | Relationship Status | | \n",
    "| NAME_HOUSING_TYPE | Housing Type | | \n",
    "| DAYS_BIRTH | No. of Days | Count backwards from current day (0), -1 means yesterday\n",
    "| DAYS_EMPLOYED | No. of Days | Count backwards from current day(0). If positive, it means the person is currently unemployed.\n",
    "| FLAG_MOBIL | Mobile Phone Ownership | | \n",
    "| FLAG_WORK_PHONE | Work Phone Ownership | | \n",
    "| FLAG_PHONE | Landline Phone Ownership | | \n",
    "| FLAG_EMAIL | Landline Phone Ownership | | \n",
    "| OCCUPATION_TYPE | Occupation | | \n",
    "| CNT_FAM_MEMBERS | Count of Family Members | |\n",
    "\n",
    "\n",
    "\n",
    "- In `credit_record.csv` we have the following variables\n",
    "\n",
    "\n",
    "| Feature Name         | Explanation     | Additional Remarks |\n",
    "|--------------|-----------|-----------|\n",
    "| ID | Randomly allocated client number | |\n",
    "| MONTHS_BALANCE | Number of months in the past from now when STATUS is measured | 0 = current month, -1 = last month, -2 = two months ago, etc.|\n",
    "| STATUS | Number of days a payment is past due | 0: 1-29 days past due 1: 30-59 days past due 2: 60-89 days overdue 3: 90-119 days overdue 4: 120-149 days overdue 5: Overdue or bad debts, write-offs for more than 150 days C: paid off that month X: No loan for the month |"
   ]
  },
  {
   "cell_type": "code",
   "execution_count": 22,
   "id": "de9e4b62",
   "metadata": {},
   "outputs": [],
   "source": [
    "import pandas as pd\n",
    "import numpy as np"
   ]
  },
  {
   "cell_type": "code",
   "execution_count": 2,
   "id": "7b9f2a52",
   "metadata": {},
   "outputs": [],
   "source": [
    "df_credit = pd.read_csv('/Users/aadharbaheti/Downloads/Assignment2/data/credit_record.csv')"
   ]
  },
  {
   "cell_type": "code",
   "execution_count": 3,
   "id": "bc2eb2d0",
   "metadata": {},
   "outputs": [],
   "source": [
    "df_application = pd.read_csv('/Users/aadharbaheti/Downloads/Assignment2/data/application_record.csv')"
   ]
  },
  {
   "cell_type": "code",
   "execution_count": 4,
   "id": "9557aee5",
   "metadata": {},
   "outputs": [
    {
     "name": "stdout",
     "output_type": "stream",
     "text": [
      "(438557, 18)\n",
      "(1048575, 3)\n",
      "the number of unique clients in application record are 438510\n",
      "the number of unique bank clients in credit record are 45985\n"
     ]
    }
   ],
   "source": [
    "print(df_application.shape)\n",
    "\n",
    "print(df_credit.shape)\n",
    "\n",
    "\n",
    "print(f'the number of unique clients in application record are {df_application[\"ID\"].nunique()}')\n",
    "\n",
    "print(f'the number of unique bank clients in credit record are {df_credit[\"ID\"].nunique()}')"
   ]
  },
  {
   "cell_type": "code",
   "execution_count": 5,
   "id": "fe22b1f2",
   "metadata": {},
   "outputs": [
    {
     "data": {
      "text/plain": [
       "36457"
      ]
     },
     "execution_count": 5,
     "metadata": {},
     "output_type": "execute_result"
    }
   ],
   "source": [
    "df= pd.merge(df_application,df_credit,on ='ID',how ='inner')\n",
    "\n",
    "(df.shape)\n",
    "\n",
    "(df[\"ID\"].nunique())"
   ]
  },
  {
   "cell_type": "markdown",
   "id": "dac03449",
   "metadata": {},
   "source": [
    "Changing the values of STATUS in df according to the following mapping: \n",
    "{C, X, 0} -> 0 and {1, 2, 3, 4, 5} -> 1 \n"
   ]
  },
  {
   "cell_type": "code",
   "execution_count": 6,
   "id": "d6170daa",
   "metadata": {},
   "outputs": [],
   "source": [
    "df['STATUS'] = df['STATUS'].replace(['C', 'X', '0'],[0,0,0]).replace(['1','2','3','4','5'],[1,1,1,1,1])"
   ]
  },
  {
   "cell_type": "markdown",
   "id": "289fd375",
   "metadata": {},
   "source": [
    "Creating a New numpy array named list_of_defaults for clients with default\n",
    "\n",
    "\n",
    "Further Creating df final consisting of ID's with default with y=1"
   ]
  },
  {
   "cell_type": "code",
   "execution_count": 7,
   "id": "91b01352",
   "metadata": {},
   "outputs": [],
   "source": [
    "df2 = df.loc[(df['MONTHS_BALANCE']> -12)  & (df['STATUS']==1)]\n",
    "df2 = df2.drop_duplicates(subset='ID', keep='first')\n",
    "list_of_defaults = df2['ID'].to_numpy()\n"
   ]
  },
  {
   "cell_type": "code",
   "execution_count": 8,
   "id": "a233336b",
   "metadata": {},
   "outputs": [],
   "source": [
    "df_final = df2[df2[\"ID\"].isin(list_of_defaults)]\n",
    "\n",
    "\n",
    "df_final = df_final.assign(y=1)"
   ]
  },
  {
   "cell_type": "code",
   "execution_count": 9,
   "id": "beecfee0",
   "metadata": {},
   "outputs": [
    {
     "name": "stdout",
     "output_type": "stream",
     "text": [
      "(1740, 21)\n"
     ]
    }
   ],
   "source": [
    "print(df_final.shape)"
   ]
  },
  {
   "cell_type": "markdown",
   "id": "b27750de",
   "metadata": {},
   "source": [
    "Desired Shape is (4000,21) Therefore increasing df final with unique ID's\n"
   ]
  },
  {
   "cell_type": "code",
   "execution_count": 10,
   "id": "0df988a6",
   "metadata": {},
   "outputs": [
    {
     "name": "stderr",
     "output_type": "stream",
     "text": [
      "/var/folders/n7/nx2jtvtx6mv45smlrw1sk3s00000gn/T/ipykernel_9552/963283679.py:3: FutureWarning: The frame.append method is deprecated and will be removed from pandas in a future version. Use pandas.concat instead.\n",
      "  df_final = df_final.append(df3, ignore_index=True)\n"
     ]
    }
   ],
   "source": [
    "df3 = df[~df['ID'].isin(df_final['ID'])]\n",
    "df3 = df3.drop_duplicates(subset='ID', keep='first').head(4000-len((list_of_defaults)))\n",
    "df_final = df_final.append(df3, ignore_index=True)\n",
    "df_final = df_final.drop_duplicates(subset='ID', keep='first')"
   ]
  },
  {
   "cell_type": "code",
   "execution_count": 11,
   "id": "2f08211f",
   "metadata": {},
   "outputs": [
    {
     "name": "stdout",
     "output_type": "stream",
     "text": [
      "(4000, 21)\n"
     ]
    }
   ],
   "source": [
    "print(df_final.shape)"
   ]
  },
  {
   "cell_type": "code",
   "execution_count": 12,
   "id": "124e51f1",
   "metadata": {},
   "outputs": [
    {
     "name": "stdout",
     "output_type": "stream",
     "text": [
      "Number of clients with overdue payments of more than 29 days: 1743\n",
      "Number of clients with overdue payments of less than 29 days: 2257\n"
     ]
    }
   ],
   "source": [
    "overdue_29 = df_final[df_final['STATUS'] > 0].shape[0]\n",
    "print(\"Number of clients with overdue payments of more than 29 days:\", overdue_29)\n",
    "\n",
    "overdue_less_29 = df_final[df_final['STATUS'] <= 0].shape[0]\n",
    "print(\"Number of clients with overdue payments of less than 29 days:\", overdue_less_29)"
   ]
  },
  {
   "cell_type": "code",
   "execution_count": 13,
   "id": "5627ce3b",
   "metadata": {},
   "outputs": [
    {
     "name": "stdout",
     "output_type": "stream",
     "text": [
      "Missing Values in df_final:\n",
      "ID                        0\n",
      "CODE_GENDER               0\n",
      "FLAG_OWN_CAR              0\n",
      "FLAG_OWN_REALTY           0\n",
      "CNT_CHILDREN             74\n",
      "AMT_INCOME_TOTAL          0\n",
      "NAME_INCOME_TYPE          0\n",
      "NAME_EDUCATION_TYPE    1831\n",
      "NAME_FAMILY_STATUS        0\n",
      "NAME_HOUSING_TYPE         0\n",
      "DAYS_BIRTH                0\n",
      "DAYS_EMPLOYED             0\n",
      "FLAG_MOBIL                0\n",
      "FLAG_WORK_PHONE           0\n",
      "FLAG_PHONE                0\n",
      "FLAG_EMAIL                0\n",
      "OCCUPATION_TYPE        1166\n",
      "CNT_FAM_MEMBERS           0\n",
      "MONTHS_BALANCE            0\n",
      "STATUS                    0\n",
      "y                      2260\n",
      "dtype: int64\n"
     ]
    }
   ],
   "source": [
    "missing_values = df_final.isna().sum()\n",
    "print(\"Missing Values in df_final:\")\n",
    "print(missing_values) ## Check for Na's"
   ]
  },
  {
   "cell_type": "code",
   "execution_count": 14,
   "id": "baceadef",
   "metadata": {},
   "outputs": [],
   "source": [
    "df_final['y'] = df_final['y'].fillna(0) # Filling y=0 for non default\n",
    "df_final = df_final.drop(['STATUS', 'MONTHS_BALANCE'], axis=1)"
   ]
  },
  {
   "cell_type": "code",
   "execution_count": 15,
   "id": "7ebd433c",
   "metadata": {},
   "outputs": [],
   "source": [
    "df_final = df_final.drop(['ID'], axis=1)"
   ]
  },
  {
   "cell_type": "markdown",
   "id": "13cf71c5",
   "metadata": {},
   "source": [
    "IMPUTING MISSING VALUES ACCORDING TO VARIABLES"
   ]
  },
  {
   "cell_type": "code",
   "execution_count": 16,
   "id": "4a3383b5",
   "metadata": {},
   "outputs": [
    {
     "data": {
      "text/plain": [
       "CODE_GENDER            0\n",
       "FLAG_OWN_CAR           0\n",
       "FLAG_OWN_REALTY        0\n",
       "CNT_CHILDREN           0\n",
       "AMT_INCOME_TOTAL       0\n",
       "NAME_INCOME_TYPE       0\n",
       "NAME_EDUCATION_TYPE    0\n",
       "NAME_FAMILY_STATUS     0\n",
       "NAME_HOUSING_TYPE      0\n",
       "DAYS_BIRTH             0\n",
       "DAYS_EMPLOYED          0\n",
       "FLAG_MOBIL             0\n",
       "FLAG_WORK_PHONE        0\n",
       "FLAG_PHONE             0\n",
       "FLAG_EMAIL             0\n",
       "OCCUPATION_TYPE        0\n",
       "CNT_FAM_MEMBERS        0\n",
       "y                      0\n",
       "dtype: int64"
      ]
     },
     "execution_count": 16,
     "metadata": {},
     "output_type": "execute_result"
    }
   ],
   "source": [
    "nominal = ['NAME_EDUCATION_TYPE', 'OCCUPATION_TYPE']\n",
    "\n",
    "for i in nominal:\n",
    "    df_final[i].fillna(df_final[i].mode()[0], inplace = True)\n",
    "    \n",
    "\n",
    "numeric = ['CNT_CHILDREN']\n",
    "\n",
    "for i in numeric:\n",
    "    df_final[i].fillna(df_final[i].mean(axis = 0), inplace = True)\n",
    "\n",
    "\n",
    "df_final.isnull().sum() ##Checking for Na's again"
   ]
  },
  {
   "cell_type": "markdown",
   "id": "71a8f530",
   "metadata": {},
   "source": [
    " Converting the values in `NAME_EDUCATION_TYPE` as follows\n",
    "- Lower secondary -> 1\n",
    "- Secondary / secondary special -> 2\n",
    "- Incomplete higher -> 3\n",
    "- Higher education -> 4\n",
    "\n"
   ]
  },
  {
   "cell_type": "code",
   "execution_count": 18,
   "id": "219986ce",
   "metadata": {},
   "outputs": [],
   "source": [
    "df_final['NAME_EDUCATION_TYPE'].replace(['Lower secondary','Secondary / secondary special','Incomplete higher','Higher education'],[1,2,3,4],inplace=True)\n"
   ]
  },
  {
   "cell_type": "markdown",
   "id": "5d0f8fb4",
   "metadata": {},
   "source": [
    "Adding dummy variables to `df_final` for all of the nominal features which are currently stored as string"
   ]
  },
  {
   "cell_type": "code",
   "execution_count": 19,
   "id": "a4bcbd89",
   "metadata": {},
   "outputs": [],
   "source": [
    "df_final = pd.get_dummies(df_final, prefix='', prefix_sep='', \n",
    "                            columns=['CODE_GENDER', 'FLAG_OWN_CAR', 'FLAG_OWN_REALTY', 'NAME_INCOME_TYPE', 'NAME_FAMILY_STATUS', 'NAME_HOUSING_TYPE', 'OCCUPATION_TYPE'])"
   ]
  },
  {
   "cell_type": "code",
   "execution_count": 20,
   "id": "9eced076",
   "metadata": {},
   "outputs": [],
   "source": [
    "df_final = df_final.drop(['F','N','N','Commercial associate','Civil marriage','Co-op apartment','Accountants'], axis=1)"
   ]
  },
  {
   "cell_type": "markdown",
   "id": "1ee85257",
   "metadata": {},
   "source": [
    "- Creating a numpy array named `y` from the `y` column of `df_final` making sure that the values of the array `y` are stored as integers (3 marks)   \n",
    "- Creating a numpy array named `X`  from all the remaining features in `df_final`"
   ]
  },
  {
   "cell_type": "code",
   "execution_count": 23,
   "id": "783afe73",
   "metadata": {},
   "outputs": [],
   "source": [
    "df_final['y'] = df_final['y'].astype(np.int64)\n",
    "\n",
    "y = np.array(df_final['y'].values)\n",
    "\n",
    "\n",
    "df_temp = df_final.drop('y', axis=1)\n",
    "X = np.array(df_temp.values)"
   ]
  },
  {
   "cell_type": "markdown",
   "id": "c3b5f657",
   "metadata": {},
   "source": [
    "Splitting our data into train(70%) and test(30%)"
   ]
  },
  {
   "cell_type": "code",
   "execution_count": 28,
   "id": "795dcc29",
   "metadata": {},
   "outputs": [],
   "source": [
    "from sklearn.model_selection import train_test_split\n",
    "\n",
    "X_train, X_test, y_train, y_test = train_test_split(X, y, train_size = 0.7, random_state = 7, stratify = y)\n",
    "\n",
    "\n",
    "from sklearn.preprocessing import StandardScaler\n",
    "\n",
    "sc = StandardScaler()\n",
    "\n",
    "sc.fit(X_train)\n",
    "\n",
    "X_train_scaled = sc.transform(X_train)\n",
    "\n",
    "X_test_scaled = sc.transform(X_test)"
   ]
  },
  {
   "cell_type": "markdown",
   "id": "e53ffca4",
   "metadata": {},
   "source": [
    "Training Support Vector Classifier (kernel>>linear) on standardised data"
   ]
  },
  {
   "cell_type": "code",
   "execution_count": 30,
   "id": "40cab4df",
   "metadata": {},
   "outputs": [
    {
     "name": "stdout",
     "output_type": "stream",
     "text": [
      "Accuracy of Training dataset : 0.6571428571428571\n",
      "Accuracy of Test dataset : 0.6483333333333333\n"
     ]
    }
   ],
   "source": [
    "from sklearn.svm import SVC\n",
    "\n",
    "svm_linear = SVC(kernel='linear', random_state=7)\n",
    "\n",
    "svm_linear.fit(X_train_scaled, y_train)\n",
    "\n",
    "\n",
    "\n",
    "from sklearn.metrics import accuracy_score\n",
    "\n",
    "accuracy_train = svm_linear.score(X_train_scaled, y_train)\n",
    "\n",
    "accuracy_test = svm_linear.score(X_test_scaled, y_test)\n",
    "\n",
    "\n",
    "print(\"Accuracy of Training dataset :\", accuracy_train)\n",
    "\n",
    "print(\"Accuracy of Test dataset :\", accuracy_test)"
   ]
  },
  {
   "cell_type": "markdown",
   "id": "e4464e92",
   "metadata": {},
   "source": [
    "Training Support Vector Classifier (kernel>>rbf) on standardised data\n"
   ]
  },
  {
   "cell_type": "code",
   "execution_count": 31,
   "id": "7b4d1b20",
   "metadata": {},
   "outputs": [
    {
     "name": "stdout",
     "output_type": "stream",
     "text": [
      "Accuracy of Training dataset : 0.7810714285714285\n",
      "Accuracy of Test dataset : 0.7275\n"
     ]
    }
   ],
   "source": [
    "from sklearn.svm import SVC\n",
    "\n",
    "svm_rbf = SVC(kernel='rbf', random_state=7)\n",
    "\n",
    "svm_rbf.fit(X_train_scaled, y_train)\n",
    "\n",
    "\n",
    "\n",
    "from sklearn.metrics import accuracy_score\n",
    "\n",
    "accuracy_train = svm_rbf.score(X_train_scaled, y_train)\n",
    "\n",
    "accuracy_test = svm_rbf.score(X_test_scaled, y_test)\n",
    "\n",
    "print(\"Accuracy of Training dataset :\", accuracy_train)\n",
    "\n",
    "print(\"Accuracy of Test dataset :\", accuracy_test)"
   ]
  },
  {
   "cell_type": "code",
   "execution_count": 32,
   "id": "2bcd76f2",
   "metadata": {},
   "outputs": [
    {
     "data": {
      "image/png": "[encoded data removed]",
      "text/plain": [
       "<Figure size 640x480 with 2 Axes>"
      ]
     },
     "metadata": {},
     "output_type": "display_data"
    }
   ],
   "source": [
    "from sklearn.metrics import confusion_matrix\n",
    "import seaborn as sns\n",
    "import matplotlib.pyplot as plt\n",
    "\n",
    "y_pred = svm_rbf.predict(X_test_scaled)\n",
    "cm = confusion_matrix(y_test, y_pred)\n",
    "sns.heatmap(cm, annot=True, fmt=\"d\")\n",
    "plt.xlabel(\"Predicted\")\n",
    "plt.ylabel(\"Actual\")\n",
    "plt.show()\n"
   ]
  },
  {
   "cell_type": "code",
   "execution_count": null,
   "id": "7b5159c3",
   "metadata": {},
   "outputs": [],
   "source": []
  }
 ],
 "metadata": {
  "kernelspec": {
   "display_name": "Python 3 (ipykernel)",
   "language": "python",
   "name": "python3"
  },
  "language_info": {
   "codemirror_mode": {
    "name": "ipython",
    "version": 3
   },
   "file_extension": ".py",
   "mimetype": "text/x-python",
   "name": "python",
   "nbconvert_exporter": "python",
   "pygments_lexer": "ipython3",
   "version": "3.9.13"
  }
 },
 "nbformat": 4,
 "nbformat_minor": 5
}
